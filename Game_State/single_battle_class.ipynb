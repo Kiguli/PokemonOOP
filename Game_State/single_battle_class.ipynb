{
 "cells": [
  {
   "cell_type": "code",
   "execution_count": 1,
   "metadata": {},
   "outputs": [],
   "source": [
    "import pandas as pd #importing all the important packages\n",
    "import numpy as np\n",
    "import pickle\n",
    "pickle_in = open('../gen5_pokemon.pickle','rb')\n",
    "pokemon = pickle.load(pickle_in)\n",
    "pickle_in = open('../all_gen5_moves.pickle','rb')\n",
    "moves = pickle.load(pickle_in)\n",
    "from ipynb.fs.defs.Functions import battle_list\n",
    "from ipynb.fs.defs.pokemon_class import Pokemon"
   ]
  },
  {
   "cell_type": "markdown",
   "metadata": {},
   "source": [
    "# Single Battle Class Environment"
   ]
  },
  {
   "cell_type": "code",
   "execution_count": 2,
   "metadata": {},
   "outputs": [],
   "source": [
    "class SingleBattle(object): #inherit object class\n",
    "    def __init__(self, user_team, target_team, pokemon, moves):\n",
    "        #user team\n",
    "        if len(user_team) > 0 and len(user_team) <= 6:\n",
    "            self.user_team = user_team\n",
    "        else:\n",
    "            raise Exception(\"Impossible team size for user!\")\n",
    "        # target team\n",
    "        if len(target_team) > 0 and len(target_team) <= 6:\n",
    "            self.target_team = target_team\n",
    "        else:\n",
    "            raise Exception(\"Impossible team size for target!\")\n",
    "        self.user_lead_pokemon = user_team[0]\n",
    "        self.target_lead_pokemon = target_team[0]\n",
    "        self.weather = [None,0]\n",
    "        self.hazards = [None,None]\n",
    "        self.reflect = [False, 0, False, 0]\n",
    "        self.light_screen = [False, 0, False, 0]\n",
    "        self.turns_passed = 0\n",
    "        self.turn_number = 1\n",
    "    # instance method\n",
    "    def show(self):\n",
    "        for i in self.user_team:\n",
    "            print(i.show())\n",
    "        print('========================')\n",
    "        for i in self.target_team:\n",
    "            print(i.show())\n",
    "        print('========================')\n",
    "        print('Weather:', self.weather[0], 'Turns Left:', self.weather[1])\n",
    "        print('Hazards:', self.hazards)\n",
    "        print('Reflect:', [self.reflect[0],self.reflect[2]], 'Turns Left:', [self.reflect[1],self.reflect[3]])\n",
    "        print('Light Screen:',[self.light_screen[0],self.light_screen[2]],'Turns Left:', [self.light_screen[1],self.light_screen[3]])\n",
    "        print('Turn Number:',self.turn_number)\n",
    "    \n",
    "    #get methods\n",
    "    def getTargets(self):\n",
    "        return self.target_team\n",
    "    def getUsers(self):\n",
    "        return self.user_team\n",
    "    #set methods"
   ]
  },
  {
   "cell_type": "markdown",
   "metadata": {},
   "source": [
    "# Functions"
   ]
  },
  {
   "cell_type": "code",
   "execution_count": 3,
   "metadata": {},
   "outputs": [],
   "source": [
    "def calc_dmg(SB):\n",
    "    for p in SB.getUsers():\n",
    "        for t in SB.getTargets():\n",
    "            print('########')\n",
    "            print(p.getName(),'vs',t.getName())\n",
    "            print('Speed:',p.getStats()[5],'vs',t.getStats()[5])\n",
    "            print('-----')\n",
    "            battle_list(p,t,False,pokemon,moves)\n",
    "            print('-----')\n",
    "            battle_list(t,p,False,pokemon,moves)"
   ]
  },
  {
   "cell_type": "markdown",
   "metadata": {},
   "source": [
    "# Gym Teams - Pokemon Black & White"
   ]
  },
  {
   "cell_type": "code",
   "execution_count": 4,
   "metadata": {},
   "outputs": [],
   "source": [
    "# (lvl 14) Gym Leader #1 (Chili = Snivy Chosen, Cilean = Oshawott Chosen, Cress = Tepig Chosen)\n",
    "lillipup = Pokemon.base('Lillipup',12,['Bite'], pokemon)\n",
    "pansear = Pokemon.base('Pansear',14,['Incinerate','Lick','Fury Swipes'],pokemon)\n",
    "chili = [lillipup,pansear]\n",
    "pansage = Pokemon.base('Pansage',14,['Vine Whip','Lick','Fury Swipes'],pokemon)\n",
    "cilean = [lillipup,pansage]\n",
    "panpour = Pokemon.base('Panpour',14,['Water Gun','Lick','Fury Swipes'],pokemon)\n",
    "cress = [lillipup,panpour]\n",
    "\n",
    "#(lvl 20) Gym Leader Lenora #2 (Normal Type)\n",
    "herdier = Pokemon.base('Herdier',18,['Take Down','Bite','Retaliate'],pokemon)\n",
    "watchog = Pokemon.base('Watchog',20,['Retaliate','Crunch'],pokemon)\n",
    "lenora = [herdier, watchog]\n",
    "\n",
    "#(lvl 23) Gym Leader Burgh #3 (Bug Type)\n",
    "whirlipede = Pokemon.base('Whirlipede',21,['Poison Tail', 'Struggle Bug','Pursuit'], pokemon)\n",
    "dwebble = Pokemon.base('Dwebble',21,['Smack Down','Struggle Bug','Faint Attack'], pokemon)\n",
    "leavanny = Pokemon.base('Leavanny',23,['Razor Leaf','Struggle Bug'],pokemon)\n",
    "burgh = [whirlipede,dwebble,leavanny]\n",
    "\n",
    "#(lvl 27) Gym Leader Elesa #4 (Electric Type)\n",
    "emolga = Pokemon.base('Emolga',25,['Pursuit', 'Quick Attack','Volt Switch','Aerial Ace'], pokemon)\n",
    "zebstrika = Pokemon.base('Zebstrika',27,['Quick Attack', 'Spark','Volt Switch', 'Flame Charge'], pokemon)\n",
    "elesa = [emolga,zebstrika]\n",
    "\n",
    "#(lvl 31) Gym Leader Clay #5 (Ground Type)\n",
    "krokorok = Pokemon.base('Krokorok',29,['Bulldoze', 'Crunch'], pokemon)\n",
    "palpitoad = Pokemon.base('Palpitoad',29,['Bulldoze','Muddy Water','Bubblebeam'], pokemon)\n",
    "excadrill = Pokemon.base('Excadrill',31,['Bulldoze','Slash','Rock Slide'],pokemon)\n",
    "clay = [krokorok,palpitoad,excadrill]\n",
    "\n",
    "#(lvl 35) Gym Leader Skyla #6 (Flying Type)\n",
    "swoobat = Pokemon.base('Swoobat',33,['Heart Stamp', 'Acrobatics', 'Assurance'], pokemon)\n",
    "unfezant = Pokemon.base('Unfezant',33,['Quick Attack','Air Slash','Razor Wind'], pokemon)\n",
    "swanna = Pokemon.base('Swanna',35,['Aerial Ace','Air Slash','Bubblebeam'],pokemon)\n",
    "skyla = [swoobat,unfezant,swanna]\n",
    "\n",
    "#(lvl 39) Gym Leader Brycen #7 (Ice Type)\n",
    "vanillish = Pokemon.base('Vanillish',37,['Mirror Shot', 'Frost Breath','Astonish'], pokemon)\n",
    "cryogonal = Pokemon.base('Cryogonal',37,['Aurora Beam','Frost Breath','Rapid Spin'], pokemon)\n",
    "beartic = Pokemon.base('Beartic',39,['Slash','Brine','Icicle Crash'],pokemon)\n",
    "brycen = [vanillish,cryogonal,beartic]\n",
    "\n",
    "#(lvl 43) Gym Leader Iris/Drayden #8 (Dragon Type)\n",
    "fraxure = Pokemon.base('Fraxure',41,['Dragon Tail','Assurance'], pokemon)\n",
    "druddigon = Pokemon.base('Druddigon',41,['Chip Away','Revenge','Dragon Tail','Night Slash'], pokemon)\n",
    "haxorus = Pokemon.base('Haxorus',43,['Dragon Tail','Assurance','Slash'],pokemon)\n",
    "iris = [fraxure,druddigon,haxorus]"
   ]
  },
  {
   "cell_type": "markdown",
   "metadata": {},
   "source": [
    "# Elite 4 Teams - Pokemon Black & White"
   ]
  },
  {
   "cell_type": "code",
   "execution_count": 5,
   "metadata": {},
   "outputs": [],
   "source": [
    "#(lvl 50) E4 Shauntel\n",
    "cofagrigus = Pokemon.base('Cofagrigus',48,['Grass Knot', 'Psychic','Shadow Ball'], pokemon)\n",
    "jellicent = Pokemon.base('Jellicent',48,['Energy Ball','Brine','Surf','Shadow Ball'], pokemon)\n",
    "golurk = Pokemon.base('Golurk',48,['Brick Break','Shadow Punch','Earthquake'],pokemon)\n",
    "chandelure = Pokemon.base('Chandelure',50,['Payback','Shadow Ball','Psychic','Fire Blast'],pokemon)\n",
    "shauntel = [cofagrigus, jellicent, golurk, chandelure]\n",
    "\n",
    "#(lvl 50) E4 Grimsley\n",
    "scrafty = Pokemon.base('Scrafty',48,['Crunch', 'Brick Break','Poison Jab'], pokemon)\n",
    "liepard = Pokemon.base('Liepard',48,['Night Slash','Fake Out','Aerial Ace'], pokemon)\n",
    "krookodile = Pokemon.base('Krookodile',48,['Crunch','Dragon Claw','Earthquake'],pokemon)\n",
    "bisharp = Pokemon.base('Bisharp',50,['Night Slash','X-scissor','Metal Claw','Aerial Ace'],pokemon)\n",
    "grimsley = [scrafty,liepard,krookodile,bisharp]\n",
    "\n",
    "#(lvl 50) E4 Caitlin\n",
    "reuniclus = Pokemon.base('Reuniclus',48,['Psychic', 'Energy Ball','Focus Blast','Thunder'], pokemon)\n",
    "musharna = Pokemon.base('Musharna',48,['Psychic','Shadow Ball','Charge Beam'], pokemon)\n",
    "sigilyph = Pokemon.base('Sigilyph',48,['Psychic','Shadow Ball','Ice Beam','Air Slash'],pokemon)\n",
    "gothitelle = Pokemon.base('Gothitelle',50,['Psychic','Shadow Ball','Thunderbolt'],pokemon)\n",
    "caitlin = [reuniclus,musharna,sigilyph,gothitelle]\n",
    "\n",
    "#(lvl 50) E4 Marshal\n",
    "throh = Pokemon.base('Throh',48,['Storm Throw', 'Payback','Stone Edge','Bulldoze'], pokemon)\n",
    "sawk = Pokemon.base('Sawk',48,['Grass Knot','Karate Chop','Stone Edge','Retaliate'], pokemon)\n",
    "conkeldurr = Pokemon.base('Conkeldurr',48,['Hammer Arm','Grass Knot','Stone Edge','Retaliate'],pokemon)\n",
    "mienshao = Pokemon.base('Mienshao',50,['Jump Kick','U-turn','Rock Slide','Retaliate'],pokemon)\n",
    "marshal = [throh,sawk,conkeldurr,mienshao]"
   ]
  },
  {
   "cell_type": "markdown",
   "metadata": {},
   "source": [
    "# Villain Teams"
   ]
  },
  {
   "cell_type": "code",
   "execution_count": 23,
   "metadata": {},
   "outputs": [],
   "source": [
    "# First Town Fight\n",
    "purrloin = Pokemon.base('Purrloin',7,['Scratch'], pokemon)\n",
    "N1 = [purrloin]\n",
    "\n",
    "#Nacrene City\n",
    "pidove = Pokemon.base('Pidove',13,['Gust','Quick Attack'], pokemon)\n",
    "tympole = Pokemon.base('Tympole',13,['Round','Bubblebeam'], pokemon)\n",
    "timburr = Pokemon.base('Timburr',13,['Low Kick'], pokemon)\n",
    "N2 = [pidove,tympole,timburr]\n",
    "\n",
    "#Nimbasa City\n",
    "sandile = Pokemon.base('Sandile',22,['Sand Tomb','Assurance','Mud-slap'], pokemon)\n",
    "darumaka = Pokemon.base('Darumaka',22,['Headbutt','Facade','Uproar','Fire Punch'], pokemon)\n",
    "scraggy = Pokemon.base('Scraggy',22,['Faint Attack','Headbutt','Brick Break'], pokemon)\n",
    "sigilyph = Pokemon.base('Sigilyph',22,['Psybeam','Air Cutter'], pokemon)\n",
    "N3 = [sandile, darumaka, scraggy, sigilyph]\n",
    "\n",
    "#Chargestone Cave\n",
    "boldore = Pokemon.base('Boldore',28,['Mud-slap','Smack Down','Power Gem'], pokemon)\n",
    "ferroseed = Pokemon.base('Ferroseed',28,['Metal Claw','Pin Missile','Gyro Ball'], pokemon)\n",
    "joltik = Pokemon.base('Joltik',28,['Electroweb','Bug Bite','Gastro Acid','Slash'], pokemon)\n",
    "klink = Pokemon.base('Klink',28,['Thundershock','Gear Grind','Charge Beam','Bind'], pokemon)\n",
    "N4 = [boldore, ferroseed, joltik, klink]\n",
    "\n",
    "#After E4 (Reshiram in White, Zekrom in Black)\n",
    "reshiram = Pokemon.base('Reshiram',52,['Extrasensory','Hyper Beam','Fusion Flare'], pokemon)\n",
    "zekrom = Pokemon.base('Zekrom',52,['Zen Headbutt','Giga Impact','Fusion Bolt'], pokemon)\n",
    "carracosta = Pokemon.base('Carracosta',50,['Aqua Jet','Waterfall','Stone Edge','Crunch'], pokemon)\n",
    "vanilluxe = Pokemon.base('Vanilluxe',50,['Frost Breath','Blizzard','Flash Cannon'], pokemon)\n",
    "archeops = Pokemon.base('Archeops',50,['Dragon Claw','Acrobatics','Stone Edge','Crunch'], pokemon)\n",
    "zoroark = Pokemon.base('Zoroark',50,['Night Slash','Focus Blast','Flamethrower','Retaliate'], pokemon)\n",
    "klinklang = Pokemon.base('Klinklang',50,['Thunderbolt','Flash Cannon','Hyper Beam'], pokemon)\n",
    "N = [reshiram,carracosta,vanilluxe,archeops,zoroark,klinklang]\n",
    "\n",
    "#Ghetsis\n",
    "cofagrigus_G = Pokemon.base('Cofagrigus',52,['Shadow Ball','Psychic'], pokemon)\n",
    "seismitoad_G = Pokemon.base('Seismitoad',52,['Muddy Water','Sludge Wave','Earthquake'], pokemon)\n",
    "bouffalant_G = Pokemon.base('Bouffalant',52,['Head Charge','Wild Charge','Earthquake','Poison Jab'], pokemon)\n",
    "bisharp_G = Pokemon.base('Bisharp',52,['Night Slash','X-scissor','Stone Edge'],pokemon)\n",
    "eelektross_G = Pokemon.base('Eelektross',52,['Crunch','Wild Charge','Flamethrower','Acrobatics'], pokemon)\n",
    "hydreigon_G = Pokemon.base('Hydreigon',54,['Dragon Pulse','Surf','Fire Blast','Focus Blast'], pokemon)\n",
    "ghetsis = [cofagrigus_G,seismitoad_G,bouffalant_G,bisharp_G,eelektross_G,hydreigon_G]"
   ]
  },
  {
   "cell_type": "markdown",
   "metadata": {},
   "source": [
    "# Your Team"
   ]
  },
  {
   "cell_type": "code",
   "execution_count": 153,
   "metadata": {},
   "outputs": [],
   "source": [
    "#Bucky = Pokemon.base('Sawsbuck',43,['Double Kick','Faint Attack','Take Down'],pokemon)\n",
    "#Waxo = Pokemon.base('Litwick',35,['Hex','Flame Burst'],pokemon)\n",
    "#Newspaper = Pokemon.ivs('Zebstrika',31,'Lightning Rod',['Quick Attack','Flame Charge','Spark'],pokemon,'Sassy',[17,15,31,6,30,13])\n",
    "#Rocks = Pokemon.ivs('Tirtouga',35,'Sturdy',['Scald','Ancientpower','Aqua Jet','Crunch'],pokemon,'Impish',[2,28,26,7,9,23])\n",
    "#Tutenkamon = Pokemon.ivs('Cofagrigus',35,'Mummy',['Ominous Wind','Hex'],pokemon,'Impish',[13,17,27,9,3,25])\n",
    "#Maracas = Pokemon.ivs('Maractus',31,'Chlorophyll',['Needle Arm','Giga Drain'],pokemon,'Bold',[27,4,0,2,23,19])\n",
    "#Steven = Pokemon.ivs('Herdier',27,'Intimidate',['Tackle','Take Down','Crunch'],pokemon,'Relaxed',[21,13,2,7,0,26])\n",
    "#Mini = Pokemon.ivs('Cinccino',31,'Technician',['Wake-up Slap','Tail Slap'],pokemon,'Quiet',[16,8,5,11,3,16])\n",
    "#Speedy = Pokemon.ivs('Scolipede',31,'Swarm',['Bug Bite','Poison Tail'],pokemon,'Timid',[31,30,6,4,3,26])\n",
    "#Mushy = Pokemon.ivs('Amoonguss',50,'Effect Spore',['Giga Drain','Sludge Bomb','Clear Smog'],pokemon,'Gentle',[5,19,1,8,24,21])\n",
    "#Fodder = Pokemon.ivs('Pawniard',50,'Inner Focus',['Assurance','Metal Claw','Slash'],pokemon,'Naive',[10,1,6,13,8,27])\n",
    "\n",
    "Cyborg = Pokemon.ivs('Excadrill',50,'Sand Force',['Earthquake','Rock Slide','Slash'],pokemon,'Quiet',[25,19,25,19,18,22])\n",
    "Nibbles = Pokemon.ivs('Krookodile',50,'Moxie',['Foul Play','Crunch','Bulldoze'],pokemon,'Quiet',[25,30,14,27,20,20])\n",
    "PulledPork = Pokemon.ivs('Emboar',50,'Blaze',['Hammer Arm','Flamethrower','Heat Crash','Head Smash'],pokemon,'Serious',[12,21,21,16,16,10])\n",
    "Asparagas = Pokemon.ivs('Simisage',50,'Gluttony',['Seed Bomb','Dig','Bite'],pokemon,'Docile',[8,12,28,9,3,31])\n",
    "Muscles = Pokemon.ivs('Conkeldurr',51,'Sheer Force',['Hammer Arm','Rock Slide','Stone Edge'],pokemon,'Bashful',[30,14,4,6,1,31])\n",
    "Cell = Pokemon.ivs('Reuniclus',50,'Overcoat',['Psychic','Flash Cannon','Shadow Ball'],pokemon,'Rash',[9,26,4,13,22,17])\n",
    "Gear4 = Pokemon.ivs('Klinklang',50,'Plus',['Volt Switch','Flash Cannon','Charge Beam','Discharge'],pokemon,'Naive',[12,25,2,17,11,20])\n",
    "Boils = Pokemon.ivs('Seismitoad',50,'Poison Touch',['Drain Punch','Bulldoze','Surf','Sludge Bomb'],pokemon,'Timid',[17,19,5,19,25,14])\n",
    "Rock = Pokemon.ivs('Gigalith',50,'Sturdy',['Stone Edge','Headbutt'],pokemon,'Docile',[23,13,1,0,12,12])\n",
    "Stunny = Pokemon.ivs('Stunfisk',50,'Limber',['Muddy Water','Mud Bomb','Discharge'],pokemon,'Brave',[30,6,3,24,31,21])\n",
    "Helmet = Pokemon.ivs('Accelgor',50,'Hydration',['Giga Drain','U-turn'],pokemon,'Naive',[16,20,31,24,10,19])\n",
    "Kungfu = Pokemon.ivs('Mienshao',53,'Regenerator',['Drain Punch','Retaliate','Jump Kick','U-turn'],pokemon,'Hasty',[29,20,10,23,17,27])\n",
    "Biglegs = Pokemon.ivs('Durant',50,'Hustle',['Crunch','Iron Head','X-scissor'],pokemon,'Sassy',[1,16,4,26,5,7])\n",
    "current = [Rock,Cyborg,Boils,Muscles,Kungfu,Biglegs]"
   ]
  },
  {
   "cell_type": "markdown",
   "metadata": {},
   "source": [
    "# Testing"
   ]
  },
  {
   "cell_type": "code",
   "execution_count": 154,
   "metadata": {},
   "outputs": [],
   "source": [
    "rand = [Pokemon.base('Emolga',27,[],pokemon)]"
   ]
  },
  {
   "cell_type": "code",
   "execution_count": 159,
   "metadata": {},
   "outputs": [
    {
     "name": "stdout",
     "output_type": "stream",
     "text": [
      "########\n",
      "Gigalith vs Bisharp\n",
      "Speed: 36 vs 86\n",
      "-----\n",
      "Stone Edge [26, 30]\n",
      "Headbutt [12, 14]\n",
      "-----\n",
      "Night Slash [28, 33]\n",
      "X-scissor [21, 25]\n",
      "Stone Edge [26, 32]\n",
      "########\n",
      "Excadrill vs Bisharp\n",
      "Speed: 93 vs 86\n",
      "-----\n",
      "Earthquake [107, 127]\n",
      "Rock Slide [13, 16]\n",
      "Slash [12, 14]\n",
      "-----\n",
      "Night Slash [42, 50]\n",
      "X-scissor [15, 18]\n",
      "Stone Edge [9, 11]\n",
      "########\n",
      "Seismitoad vs Bisharp\n",
      "Speed: 86 vs 86\n",
      "-----\n",
      "Drain Punch [72, 86]\n",
      "Bulldoze [44, 52]\n",
      "Surf [51, 59]\n",
      "Sludge Bomb [0, 0]\n",
      "-----\n",
      "Night Slash [42, 49]\n",
      "X-scissor [31, 37]\n",
      "Stone Edge [19, 23]\n",
      "########\n",
      "Conkeldurr vs Bisharp\n",
      "Speed: 66 vs 86\n",
      "-----\n",
      "Hammer Arm [226, 266]\n",
      "Rock Slide [13, 16]\n",
      "Stone Edge [18, 21]\n",
      "-----\n",
      "Night Slash [15, 18]\n",
      "X-scissor [12, 14]\n",
      "Stone Edge [14, 17]\n",
      "########\n",
      "Mienshao vs Bisharp\n",
      "Speed: 130 vs 86\n",
      "-----\n",
      "Drain Punch [170, 201]\n",
      "Retaliate [13, 15]\n",
      "Jump Kick [225, 265]\n",
      "U-turn [26, 31]\n",
      "-----\n",
      "Night Slash [30, 36]\n",
      "X-scissor [23, 27]\n",
      "Stone Edge [28, 34]\n",
      "########\n",
      "Durant vs Bisharp\n",
      "Speed: 105 vs 86\n",
      "-----\n",
      "Crunch [11, 13]\n",
      "Iron Head [17, 21]\n",
      "X-scissor [35, 42]\n",
      "-----\n",
      "Night Slash [43, 50]\n",
      "X-scissor [16, 18]\n",
      "Stone Edge [40, 47]\n"
     ]
    }
   ],
   "source": [
    "arena = SingleBattle(current,[bisharp_G],pokemon,moves)\n",
    "calc_dmg(arena)"
   ]
  },
  {
   "cell_type": "markdown",
   "metadata": {},
   "source": [
    "# Code for Pokemon that don't have pre-evolved movesets (e.g. stone evos (Simisage, etc.))"
   ]
  },
  {
   "cell_type": "code",
   "execution_count": null,
   "metadata": {},
   "outputs": [],
   "source": [
    "#new = moves[moves.POKEMON == 'Petilil']\n",
    "#new = new.drop('POKEMON',1)\n",
    "#new['POKEMON'] = 'Lilligant'\n",
    "#old = moves[moves.POKEMON == 'Lilligant']\n",
    "#com = pd.concat([new,old])\n",
    "#com = com[~com.index.duplicated(keep='first')]\n",
    "#moves = moves[moves.POKEMON != 'Lilligant']\n",
    "#moves = pd.concat([moves,com])\n",
    "#with open ('../all_gen5_moves.pickle', 'wb') as f:\n",
    "#        pickle.dump(moves,f)"
   ]
  }
 ],
 "metadata": {
  "kernelspec": {
   "display_name": "Python 3",
   "language": "python",
   "name": "python3"
  },
  "language_info": {
   "codemirror_mode": {
    "name": "ipython",
    "version": 3
   },
   "file_extension": ".py",
   "mimetype": "text/x-python",
   "name": "python",
   "nbconvert_exporter": "python",
   "pygments_lexer": "ipython3",
   "version": "3.8.3"
  }
 },
 "nbformat": 4,
 "nbformat_minor": 4
}
